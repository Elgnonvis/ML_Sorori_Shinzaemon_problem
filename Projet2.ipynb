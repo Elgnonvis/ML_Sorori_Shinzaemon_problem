{
  "nbformat": 4,
  "nbformat_minor": 0,
  "metadata": {
    "colab": {
      "name": "Projet2.ipynb",
      "provenance": [],
      "collapsed_sections": [],
      "authorship_tag": "ABX9TyMzTzme2rCrBcQa5Wcm8NiZ",
      "include_colab_link": true
    },
    "kernelspec": {
      "name": "python3",
      "display_name": "Python 3"
    },
    "language_info": {
      "name": "python"
    }
  },
  "cells": [
    {
      "cell_type": "markdown",
      "metadata": {
        "id": "view-in-github",
        "colab_type": "text"
      },
      "source": [
        "<a href=\"https://colab.research.google.com/github/Elgnonvis/ML_Sorori_Shinzaemon_problem/blob/master/Projet2.ipynb\" target=\"_parent\"><img src=\"https://colab.research.google.com/assets/colab-badge.svg\" alt=\"Open In Colab\"/></a>"
      ]
    },
    {
      "cell_type": "code",
      "execution_count": null,
      "metadata": {
        "colab": {
          "base_uri": "https://localhost:8080/",
          "height": 330
        },
        "id": "mLJK_hY5LaY0",
        "outputId": "9df995a5-d011-4968-89e3-dbfe51485c73"
      },
      "outputs": [
        {
          "output_type": "stream",
          "name": "stdout",
          "text": [
            "The total grains of rice received on the 100th day is : 15 \n",
            "\n"
          ]
        },
        {
          "output_type": "display_data",
          "data": {
            "image/png": "[encoded data removed]",
            "text/plain": [
              "<Figure size 432x288 with 1 Axes>"
            ]
          },
          "metadata": {
            "needs_background": "light"
          }
        }
      ],
      "source": [
        "import matplotlib.pyplot as plt\n",
        "%matplotlib inline\n",
        "print(\"Solution probleme 1 \\n\")\n",
        "Liste = []\n",
        "Day100th = 4\n",
        "RECOMPENSE = 0\n",
        "for i in range(Day100th):\n",
        "  Liste.append(2**i)\n",
        "  RECOMPENSE = RECOMPENSE + Liste[i]\n",
        "print(\"The total grains of rice received on the 100th day is : {} \\n\".format(RECOMPENSE))\n",
        "\n",
        "plt.title(\"Graphique montrant la quantité de riz reçue chaque jour\")\n",
        "plt.xlabel(\"Day\")\n",
        "plt.ylabel(\"Quantity Of Rice\")\n",
        "plt.plot(Liste)\n",
        "plt.show()"
      ]
    },
    {
      "cell_type": "code",
      "source": [
        ""
      ],
      "metadata": {
        "id": "bkSeKLFWOvXK"
      },
      "execution_count": null,
      "outputs": []
    },
    {
      "cell_type": "code",
      "source": [
        "import matplotlib.pyplot as plt\n",
        "%matplotlib inline\n",
        "\n",
        "print(\"Solution probleme 2 \\n\")\n",
        "#\n",
        "TotalDay = 0\n",
        "def QuantityOfRice(TotalDay):\n",
        "    ListeOfReceivedRice = []\n",
        "    QuantityReceived = 0\n",
        "    for i in range(TotalDay):\n",
        "      ListeOfReceivedRice.append(2**i)\n",
        "      QuantityReceived = QuantityReceived + ListeOfReceivedRice[i]\n",
        "    return ListeOfReceivedRice, QuantityReceived\n",
        "\n",
        "ListeOfReceivedRice, QuantityReceived = QuantityOfRice(100)\n",
        "print(\"Qauntité totale de rie reçue: {} \\n\".format(QuantityReceived))\n",
        "\n",
        "plt.title(\"Graphique montrant la quantité de riz reçue chaque jour\")\n",
        "plt.xlabel(\"Day\")\n",
        "plt.ylabel(\"Quantity Of Rice\")\n",
        "plt.plot(ListeOfReceivedRice)\n",
        "plt.show()\n",
        "\n",
        "\n"
      ],
      "metadata": {
        "colab": {
          "base_uri": "https://localhost:8080/",
          "height": 364
        },
        "id": "sopcuIg5MfET",
        "outputId": "01029a44-be73-413b-d21b-2b083c109862"
      },
      "execution_count": 1,
      "outputs": [
        {
          "output_type": "stream",
          "name": "stdout",
          "text": [
            "Solution probleme 2 \n",
            "\n",
            "Qauntité totale de rie reçue: 1267650600228229401496703205375 \n",
            "\n"
          ]
        },
        {
          "output_type": "display_data",
          "data": {
            "image/png": "[encoded data removed]",
            "text/plain": [
              "<Figure size 432x288 with 1 Axes>"
            ]
          },
          "metadata": {
            "needs_background": "light"
          }
        }
      ]
    },
    {
      "cell_type": "markdown",
      "source": [
        ""
      ],
      "metadata": {
        "id": "K9RabV_vLtbx"
      }
    },
    {
      "cell_type": "code",
      "source": [
        "#https://en.wikipedia.org/wiki/Freerice\n",
        "#According to this article, 19,200 grains of rice can feed 1 adult for 1 day\n",
        "print(\"Solution probleme 3 \\n\")\n",
        "\n",
        "def LivePeople(QuantityReceived, NumberOfPeople):\n",
        "  numberOfPersonPerDay = int(QuantityReceived/19200)\n",
        "  numberOfDay = int(numberOfPersonPerDay/NumberOfPeople)\n",
        "  return numberOfDay\n",
        "\n",
        "LivePeople(QuantityReceived, 10000)"
      ],
      "metadata": {
        "colab": {
          "base_uri": "https://localhost:8080/"
        },
        "id": "IkiEfA9iRd1J",
        "outputId": "b10fd242-03d3-4064-c14d-5174ad8017a8"
      },
      "execution_count": 2,
      "outputs": [
        {
          "output_type": "stream",
          "name": "stdout",
          "text": [
            "Solution probleme 3 \n",
            "\n"
          ]
        },
        {
          "output_type": "execute_result",
          "data": {
            "text/plain": [
              "6602346876188695199744"
            ]
          },
          "metadata": {},
          "execution_count": 2
        }
      ]
    },
    {
      "cell_type": "code",
      "source": [
        ""
      ],
      "metadata": {
        "id": "JdWZnpS3pdJl"
      },
      "execution_count": null,
      "outputs": []
    }
  ]
}